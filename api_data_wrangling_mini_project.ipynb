{
  "nbformat": 4,
  "nbformat_minor": 0,
  "metadata": {
    "kernelspec": {
      "display_name": "Python 3",
      "language": "python",
      "name": "python3"
    },
    "language_info": {
      "codemirror_mode": {
        "name": "ipython",
        "version": 3
      },
      "file_extension": ".py",
      "mimetype": "text/x-python",
      "name": "python",
      "nbconvert_exporter": "python",
      "pygments_lexer": "ipython3",
      "version": "3.8.8"
    },
    "colab": {
      "name": "api_data_wrangling_mini_project.ipynb",
      "provenance": [],
      "include_colab_link": true
    }
  },
  "cells": [
    {
      "cell_type": "markdown",
      "metadata": {
        "id": "view-in-github",
        "colab_type": "text"
      },
      "source": [
        "<a href=\"https://colab.research.google.com/github/RyanJ77004/APIminiProject/blob/main/api_data_wrangling_mini_project.ipynb\" target=\"_parent\"><img src=\"https://colab.research.google.com/assets/colab-badge.svg\" alt=\"Open In Colab\"/></a>"
      ]
    },
    {
      "cell_type": "markdown",
      "metadata": {
        "id": "UTQFWMHiBcwi"
      },
      "source": [
        "This exercise will require you to pull some data from the Qunadl API. Qaundl is currently the most widely used aggregator of financial market data."
      ]
    },
    {
      "cell_type": "markdown",
      "metadata": {
        "id": "-730F8EABcwm"
      },
      "source": [
        "As a first step, you will need to register a free account on the http://www.quandl.com website."
      ]
    },
    {
      "cell_type": "markdown",
      "metadata": {
        "id": "SxHlZuikBcwn"
      },
      "source": [
        "After you register, you will be provided with a unique API key, that you should store:"
      ]
    },
    {
      "cell_type": "code",
      "metadata": {
        "collapsed": true,
        "jupyter": {
          "outputs_hidden": true
        },
        "id": "SyPEiEDqBcwo"
      },
      "source": [
        "# Store the API key as a string - according to PEP8, constants are always named in all upper case\n"
      ],
      "execution_count": 1,
      "outputs": []
    },
    {
      "cell_type": "markdown",
      "metadata": {
        "id": "gf1X3By1Bcwp"
      },
      "source": [
        "Qaundl has a large number of data sources, but, unfortunately, most of them require a Premium subscription. Still, there are also a good number of free datasets."
      ]
    },
    {
      "cell_type": "markdown",
      "metadata": {
        "id": "YifSIHTFBcwp"
      },
      "source": [
        "For this mini project, we will focus on equities data from the Frankfurt Stock Exhange (FSE), which is available for free. We'll try and analyze the stock prices of a company called Carl Zeiss Meditec, which manufactures tools for eye examinations, as well as medical lasers for laser eye surgery: https://www.zeiss.com/meditec/int/home.html. The company is listed under the stock ticker AFX_X."
      ]
    },
    {
      "cell_type": "markdown",
      "metadata": {
        "id": "5XCf1UEUBcwq"
      },
      "source": [
        "You can find the detailed Quandl API instructions here: https://docs.quandl.com/docs/time-series"
      ]
    },
    {
      "cell_type": "markdown",
      "metadata": {
        "id": "RC6pkAWkBcwq"
      },
      "source": [
        "While there is a dedicated Python package for connecting to the Quandl API, we would prefer that you use the *requests* package, which can be easily downloaded using *pip* or *conda*. You can find the documentation for the package here: http://docs.python-requests.org/en/master/ "
      ]
    },
    {
      "cell_type": "markdown",
      "metadata": {
        "id": "Rt0Kh0HVBcwr"
      },
      "source": [
        "Finally, apart from the *requests* package, you are encouraged to not use any third party Python packages, such as *pandas*, and instead focus on what's available in the Python Standard Library (the *collections* module might come in handy: https://pymotw.com/3/collections/ ).\n",
        "Also, since you won't have access to DataFrames, you are encouraged to us Python's native data structures - preferably dictionaries, though some questions can also be answered using lists.\n",
        "You can read more on these data structures here: https://docs.python.org/3/tutorial/datastructures.html"
      ]
    },
    {
      "cell_type": "markdown",
      "metadata": {
        "id": "LaeVdyqbBcws"
      },
      "source": [
        "Keep in mind that the JSON responses you will be getting from the API map almost one-to-one to Python's dictionaries. Unfortunately, they can be very nested, so make sure you read up on indexing dictionaries in the documentation provided above."
      ]
    },
    {
      "cell_type": "code",
      "metadata": {
        "collapsed": true,
        "jupyter": {
          "outputs_hidden": true
        },
        "id": "pCY1hn4HBcws"
      },
      "source": [
        "# First, import the relevant modules\n",
        "import requests\n",
        "import collections"
      ],
      "execution_count": 2,
      "outputs": []
    },
    {
      "cell_type": "markdown",
      "metadata": {
        "id": "NDTDBsjlBcwt"
      },
      "source": [
        "Note: API's can change a bit with each version, for this exercise it is reccomended to use the \"V3\" quandl api at `https://www.quandl.com/api/v3/`"
      ]
    },
    {
      "cell_type": "code",
      "metadata": {
        "collapsed": true,
        "jupyter": {
          "outputs_hidden": true
        },
        "colab": {
          "base_uri": "https://localhost:8080/"
        },
        "id": "jmwcFjIQBcwt",
        "outputId": "7d2737f9-48bc-4591-a21f-be7f4c79f86d"
      },
      "source": [
        "# Now, call the Quandl API and pull out a small sample of the data (only one day) to get a glimpse\n",
        "# into the JSON structure that will be returned\n",
        "url = 'https://www.quandl.com/api/v3/datasets/FSE/AFX_X.json'\n",
        "start_date = '2020-09-01'\n",
        "end_date = '2020-09-01'\n",
        "data = dict(api_key=api_key, start_date=start_date, end_date=end_date)\n",
        "res = requests.get(url, params=data)\n",
        "resj = res.json()\n",
        "print(resj)"
      ],
      "execution_count": 3,
      "outputs": [
        {
          "output_type": "stream",
          "text": [
            "{'dataset': {'id': 10095370, 'dataset_code': 'AFX_X', 'database_code': 'FSE', 'name': 'Carl Zeiss Meditec (AFX_X)', 'description': 'Stock Prices for Carl Zeiss Meditec (2020-11-02) from the Frankfurt Stock Exchange.<br><br>Trading System: Xetra<br><br>ISIN: DE0005313704', 'refreshed_at': '2020-12-01T14:48:09.907Z', 'newest_available_date': '2020-12-01', 'oldest_available_date': '2000-06-07', 'column_names': ['Date', 'Open', 'High', 'Low', 'Close', 'Change', 'Traded Volume', 'Turnover', 'Last Price of the Day', 'Daily Traded Units', 'Daily Turnover'], 'frequency': 'daily', 'type': 'Time Series', 'premium': False, 'limit': None, 'transform': None, 'column_index': None, 'start_date': '2020-09-01', 'end_date': '2020-09-01', 'data': [['2020-09-01', 94.6, 95.0, 94.55, 94.55, None, 385.0, 36427.5, None, None, None]], 'collapse': None, 'order': None, 'database_id': 6129}}\n"
          ],
          "name": "stdout"
        }
      ]
    },
    {
      "cell_type": "code",
      "metadata": {
        "collapsed": true,
        "jupyter": {
          "outputs_hidden": true
        },
        "colab": {
          "base_uri": "https://localhost:8080/"
        },
        "id": "NMgWHxsIBcwu",
        "outputId": "b6dcf8d1-3e12-4ec6-b0af-98cb897025ba"
      },
      "source": [
        "# Inspect the JSON structure of the object you created, and take note of how nested it is,\n",
        "# as well as the overall structure\n",
        "print(resj['dataset'].keys())\n",
        "print(resj['dataset']['column_names'])\n",
        "print(resj['dataset']['data'])"
      ],
      "execution_count": 7,
      "outputs": [
        {
          "output_type": "stream",
          "text": [
            "dict_keys(['id', 'dataset_code', 'database_code', 'name', 'description', 'refreshed_at', 'newest_available_date', 'oldest_available_date', 'column_names', 'frequency', 'type', 'premium', 'limit', 'transform', 'column_index', 'start_date', 'end_date', 'data', 'collapse', 'order', 'database_id'])\n",
            "['Date', 'Open', 'High', 'Low', 'Close', 'Change', 'Traded Volume', 'Turnover', 'Last Price of the Day', 'Daily Traded Units', 'Daily Turnover']\n",
            "[['2020-09-01', 94.6, 95.0, 94.55, 94.55, None, 385.0, 36427.5, None, None, None]]\n"
          ],
          "name": "stdout"
        }
      ]
    },
    {
      "cell_type": "markdown",
      "metadata": {
        "id": "l94FLqVRBcwu"
      },
      "source": [
        "These are your tasks for this mini project:\n",
        "\n",
        "1. Collect data from the Franfurt Stock Exchange, for the ticker AFX_X, for the whole year 2017 (keep in mind that the date format is YYYY-MM-DD).\n",
        "2. Convert the returned JSON object into a Python dictionary.\n",
        "3. Calculate what the highest and lowest opening prices were for the stock in this period.\n",
        "4. What was the largest change in any one day (based on High and Low price)?\n",
        "5. What was the largest change between any two days (based on Closing Price)?\n",
        "6. What was the average daily trading volume during this year?\n",
        "7. (Optional) What was the median trading volume during this year. (Note: you may need to implement your own function for calculating the median.)"
      ]
    },
    {
      "cell_type": "code",
      "metadata": {
        "collapsed": true,
        "jupyter": {
          "outputs_hidden": true
        },
        "colab": {
          "base_uri": "https://localhost:8080/"
        },
        "id": "g5ihjBs4Bcwv",
        "outputId": "dace9236-6ba9-4453-d61c-2d1c06d6de76"
      },
      "source": [
        "start_date = '2017-01-01'\n",
        "end_date = '2017-12-31'\n",
        "data = dict(api_key=api_key, start_date=start_date, end_date=end_date) #created for ease of inputting API parameters\n",
        "res = requests.get(url, params=data).json() # 1. & 2. Collect data & convert Json object to python dictionary\n",
        "[open, high, low, close, volume, one_day_ch, two_day_ch] = [[], [], [], [], [], [], []]\n",
        "\n",
        "#generate lists of individual attributes, clearing the None's out of the open values\n",
        "for v in res['dataset']['data']:\n",
        "    if v[1] != None:\n",
        "        open.append(v[1])\n",
        "    high.append(v[2])\n",
        "    low.append(v[3])\n",
        "    close.append(v[4])\n",
        "    volume.append(v[6])\n",
        "\n",
        "#calculating single day changes by subtracting the high from low and appending to one_day_ch list\n",
        "for h, l in zip(high, low):\n",
        "    one_day_ch.append(h-l)\n",
        "\n",
        "#calculating two day change by subtracting the close value of subsequent day from previous day\n",
        "for i in range(0, len(close)):\n",
        "    if i+1 < len(close):\n",
        "        two_day_ch.append(close[i+1]-close[i])\n",
        "\n",
        "print('3. The Highest and Lowest Opening Prices Were: ' + str(max(open)) + \" , \" + str(min(open)))\n",
        "print('4. The Largest Single Day Change Was: ' + str(max(one_day_ch)))\n",
        "print('5. The Largest Day to Day Change Was: ' + str(max(two_day_ch)))\n",
        "volume.sort()# sorting volume values for median function to work properly\n",
        "print('6. The Largest Average Trading Volume Was: ' + str(sum(volume)/len(volume)))\n",
        "print('7. The Median Value for Trading Volume Was: ' + str(volume[round((len(volume)+1)/2)]))# used"
      ],
      "execution_count": 58,
      "outputs": [
        {
          "output_type": "stream",
          "text": [
            "3. The Highest and Lowest Opening Prices Were: 53.11 , 34.0\n",
            "4. The Largest Single Day Change Was: 2.8100000000000023\n",
            "5. The Largest Two Day Change Was: 2.559999999999995\n",
            "6. The Largest Average Trading Volume Was: 89124.33725490196\n",
            "7. The Median Value for Trading Volume Was: 76600.0\n"
          ],
          "name": "stdout"
        }
      ]
    }
  ]
}